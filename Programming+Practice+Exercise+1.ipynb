{
 "cells": [
  {
   "cell_type": "markdown",
   "metadata": {
    "slideshow": {
     "slide_type": "slide"
    }
   },
   "source": [
    "# The Python Programming Language\n",
    "\n",
    "Python is a widely used general-purpose, high-level programming language.\n",
    "Its design philosophy emphasizes code readability, and its syntax allows\n",
    "programmers to express concepts in fewer lines of code than would be\n",
    "possible in languages such as C++ or Java.\n",
    "\n",
    "[More...](https://en.wikipedia.org/wiki/Python_(programming_language)"
   ]
  },
  {
   "cell_type": "markdown",
   "metadata": {
    "slideshow": {
     "slide_type": "subslide"
    }
   },
   "source": [
    "## Questions :\n",
    "\n",
    "What is the *syntax* of a programming language?\n",
    "\n",
    "What is a \"high level\" langauge\n",
    "\n",
    "What software do you need to \"run\" python code?"
   ]
  },
  {
   "cell_type": "raw",
   "metadata": {
    "slideshow": {
     "slide_type": "subslide"
    }
   },
   "source": [
    "## Record your answer here: Syntax is the set of rules of a programming language that are considered structured. A \"high level\" language is a type of language that humans are able to read and understand. You need Python in order to \"run\" python code."
   ]
  },
  {
   "cell_type": "markdown",
   "metadata": {
    "slideshow": {
     "slide_type": "slide"
    }
   },
   "source": [
    "## Exercise : Operators\n",
    "\n",
    "Explore how the python operators work\n",
    "```python \n",
    "+ - / * \n",
    "```\n",
    "\n",
    "Think about TYPES (integers, reals, strings) while you explore\n",
    "\n",
    "\n"
   ]
  },
  {
   "cell_type": "code",
   "execution_count": 1,
   "metadata": {
    "slideshow": {
     "slide_type": "fragment"
    }
   },
   "outputs": [
    {
     "data": {
      "text/plain": [
       "4.2"
      ]
     },
     "execution_count": 1,
     "metadata": {},
     "output_type": "execute_result"
    }
   ],
   "source": [
    "2+2.2"
   ]
  },
  {
   "cell_type": "code",
   "execution_count": 4,
   "metadata": {},
   "outputs": [
    {
     "data": {
      "text/plain": [
       "0.4444444444444444"
      ]
     },
     "execution_count": 4,
     "metadata": {},
     "output_type": "execute_result"
    }
   ],
   "source": [
    "4 / 9"
   ]
  },
  {
   "cell_type": "code",
   "execution_count": 2,
   "metadata": {},
   "outputs": [
    {
     "data": {
      "text/plain": [
       "'helloworld'"
      ]
     },
     "execution_count": 2,
     "metadata": {},
     "output_type": "execute_result"
    }
   ],
   "source": [
    "\"hello\"+\"world\""
   ]
  },
  {
   "cell_type": "code",
   "execution_count": 3,
   "metadata": {},
   "outputs": [
    {
     "data": {
      "text/plain": [
       "'Hello my name is Hummzah!'"
      ]
     },
     "execution_count": 3,
     "metadata": {},
     "output_type": "execute_result"
    }
   ],
   "source": [
    "# write your own expression:\n",
    "\"Hello\"+\" \"+\"my\"+\" \"+\"name\"+\" \"+\"is\"+\" \"+\"Hummzah!\""
   ]
  },
  {
   "cell_type": "markdown",
   "metadata": {},
   "source": [
    "## Record your findings here:\n",
    "\n"
   ]
  },
  {
   "cell_type": "markdown",
   "metadata": {},
   "source": [
    "## Exercise : More operators\n",
    "\n",
    "Now explore these:\n",
    "\n",
    "``` python\n",
    "//    %  **\n",
    "\n",
    "```\n"
   ]
  },
  {
   "cell_type": "code",
   "execution_count": 5,
   "metadata": {},
   "outputs": [
    {
     "data": {
      "text/plain": [
       "0"
      ]
     },
     "execution_count": 5,
     "metadata": {},
     "output_type": "execute_result"
    }
   ],
   "source": [
    "2//3"
   ]
  },
  {
   "cell_type": "code",
   "execution_count": 6,
   "metadata": {},
   "outputs": [
    {
     "data": {
      "text/plain": [
       "8"
      ]
     },
     "execution_count": 6,
     "metadata": {},
     "output_type": "execute_result"
    }
   ],
   "source": [
    "2**3"
   ]
  },
  {
   "cell_type": "code",
   "execution_count": 11,
   "metadata": {},
   "outputs": [
    {
     "data": {
      "text/plain": [
       "2"
      ]
     },
     "execution_count": 11,
     "metadata": {},
     "output_type": "execute_result"
    }
   ],
   "source": [
    "2%3"
   ]
  },
  {
   "cell_type": "markdown",
   "metadata": {},
   "source": [
    "## Record your findings here: ** is the \"power of\" symbol, * is times, + is add, - is subract, / is divide. % is division but the answer is the remainder.\n"
   ]
  },
  {
   "cell_type": "markdown",
   "metadata": {},
   "source": [
    "# Exercise: Using the modulo operator to loop though a series of numbers\n",
    "\n",
    "Think of a clock - what numbers does it have? 1, 2, 3, 4, ... all the way to 12. What happens after 12? It goes back to 1 again. A 24h clock is no different - it goes from 1,2,3..12,13,14...22,23,24 and then loops back to 1.\n",
    "\n",
    "How can you program a sequence like this? One that begins with 1 but then loops back to 1 once it has reached its maximum?\n",
    "\n",
    "With the modulo operator its easy. Let's test this out with a 12 hour clock. WHen numbers are LESS than 12, if you %12, you just get the number itself. "
   ]
  },
  {
   "cell_type": "code",
   "execution_count": 12,
   "metadata": {},
   "outputs": [
    {
     "data": {
      "text/plain": [
       "3"
      ]
     },
     "execution_count": 12,
     "metadata": {},
     "output_type": "execute_result"
    }
   ],
   "source": [
    "3 % 12"
   ]
  },
  {
   "cell_type": "code",
   "execution_count": 13,
   "metadata": {},
   "outputs": [
    {
     "data": {
      "text/plain": [
       "5"
      ]
     },
     "execution_count": 13,
     "metadata": {},
     "output_type": "execute_result"
    }
   ],
   "source": [
    "5 % 12"
   ]
  },
  {
   "cell_type": "markdown",
   "metadata": {},
   "source": [
    "What about when numbers are larger than 12... well let's start with 12 itself. What do you think the following results in?"
   ]
  },
  {
   "cell_type": "code",
   "execution_count": 14,
   "metadata": {},
   "outputs": [
    {
     "data": {
      "text/plain": [
       "0"
      ]
     },
     "execution_count": 14,
     "metadata": {},
     "output_type": "execute_result"
    }
   ],
   "source": [
    "12 % 12"
   ]
  },
  {
   "cell_type": "code",
   "execution_count": 15,
   "metadata": {},
   "outputs": [
    {
     "data": {
      "text/plain": [
       "12"
      ]
     },
     "execution_count": 15,
     "metadata": {},
     "output_type": "execute_result"
    }
   ],
   "source": [
    "12%13"
   ]
  },
  {
   "cell_type": "code",
   "execution_count": 16,
   "metadata": {},
   "outputs": [
    {
     "data": {
      "text/plain": [
       "3"
      ]
     },
     "execution_count": 16,
     "metadata": {},
     "output_type": "execute_result"
    }
   ],
   "source": [
    "15%12\n"
   ]
  },
  {
   "cell_type": "markdown",
   "metadata": {},
   "source": [
    "# Reflection: Modulo operator\n",
    "\n",
    "Does this make sense? Does it work? Do you have any questions? Where (else) can this be used?\n",
    "\n",
    "[Read more about Modulo arithmetic here](https://www.khanacademy.org/computing/computer-science/cryptography#modarithmetic)"
   ]
  },
  {
   "cell_type": "markdown",
   "metadata": {},
   "source": [
    "## Exercise: Comparision Operators\n",
    "\n",
    "Explore the Python comparison operators\n",
    "\n",
    "```python\n",
    ">  < >=  <= !=  == \n",
    "```\n",
    "\n",
    "What TYPE does a comparision return?"
   ]
  },
  {
   "cell_type": "code",
   "execution_count": null,
   "metadata": {
    "collapsed": true
   },
   "outputs": [],
   "source": [
    "2 > 3"
   ]
  },
  {
   "cell_type": "code",
   "execution_count": null,
   "metadata": {
    "collapsed": true
   },
   "outputs": [],
   "source": [
    "2 != 5"
   ]
  },
  {
   "cell_type": "code",
   "execution_count": 21,
   "metadata": {},
   "outputs": [
    {
     "data": {
      "text/plain": [
       "True"
      ]
     },
     "execution_count": 21,
     "metadata": {},
     "output_type": "execute_result"
    }
   ],
   "source": [
    "\"aB\" > \"Ab\""
   ]
  },
  {
   "cell_type": "code",
   "execution_count": 22,
   "metadata": {},
   "outputs": [
    {
     "data": {
      "text/plain": [
       "False"
      ]
     },
     "execution_count": 22,
     "metadata": {},
     "output_type": "execute_result"
    }
   ],
   "source": [
    "True == False"
   ]
  },
  {
   "cell_type": "markdown",
   "metadata": {},
   "source": [
    "## Record your findings here:"
   ]
  },
  {
   "cell_type": "markdown",
   "metadata": {},
   "source": [
    "\n",
    "# Storing data - Variables (and constants)\n",
    "\n",
    "Computers are stupid, if they don't \"write things down\" they will “forget” .\n",
    "\n",
    "We use VARIABLES or CONSTANTS which creates space in computer memory to store data.\n",
    "All variables have a DATA-TYPE (integer, real (float), string, boolean)\n",
    "\n",
    "All variables have NAMES and VALUES. The names never change, but the values can.\n",
    "All contants have NAMES and VALUES. Neither change! Then why use constants? Because words (like  ```DISTTOMOON ```) are more meaningful to human programmers than number (like  ```238855 ``` miles)\n",
    "\n",
    "\n",
    "## Ada-style Naming convention\n",
    "\n",
    "Variables should use **camelCase** naming, and start with a lower-case letter.\n",
    "\n",
    "Boolean variables should sound like a question.\n",
    "\n",
    "Constants should be in CAPITALS and come as close the the beginning of a program as appropriate\n",
    "\n",
    "```python\n",
    "# no:\n",
    "Name = 'Alex'\n",
    "user_age = 16\n",
    "userTired = true\n",
    "dist_Moon = 238855\n",
    "\n",
    "# yes:\n",
    "DISTMOON = 23885\n",
    "name = 'Alex'\n",
    "userAge = 16\n",
    "isUserTired = true\n",
    "```\n",
    "\n",
    "### Note: \n",
    "\n",
    "A ```#``` (hash) symbol precedes a comment. This line of code will be ignored by the interpreter and allows the programmer to write notes to themselves or others"
   ]
  },
  {
   "cell_type": "markdown",
   "metadata": {},
   "source": [
    "## Exercise: Program the formula for the area of a circle\n",
    "\n",
    "The formula is: **pi** times **radius** squared\n",
    "\n",
    "Pi is a constant, while radius should be a variable, otherwise your program will always work out the area of the same circle\n"
   ]
  },
  {
   "cell_type": "code",
   "execution_count": 32,
   "metadata": {},
   "outputs": [
    {
     "data": {
      "text/plain": [
       "452.16"
      ]
     },
     "execution_count": 32,
     "metadata": {},
     "output_type": "execute_result"
    }
   ],
   "source": [
    "PI = 3.14  #you can make this as accurate as you want \n",
    "radius = 12 # change this as appropirate\n",
    "PI * radius**2"
   ]
  },
  {
   "cell_type": "markdown",
   "metadata": {},
   "source": [
    "## Note: there is a library for Maths constants!\n",
    "\n",
    "[Python Maths functions](https://docs.python.org/3.0/library/math.html)"
   ]
  },
  {
   "cell_type": "code",
   "execution_count": 30,
   "metadata": {},
   "outputs": [
    {
     "data": {
      "text/plain": [
       "3.141592653589793"
      ]
     },
     "execution_count": 30,
     "metadata": {},
     "output_type": "execute_result"
    }
   ],
   "source": [
    "import math\n",
    "math.pi"
   ]
  },
  {
   "cell_type": "code",
   "execution_count": 31,
   "metadata": {},
   "outputs": [
    {
     "data": {
      "text/plain": [
       "452.3893421169302"
      ]
     },
     "execution_count": 31,
     "metadata": {},
     "output_type": "execute_result"
    }
   ],
   "source": [
    "PI = math.pi\n",
    "radius = 12\n",
    "PI * radius**2"
   ]
  },
  {
   "cell_type": "markdown",
   "metadata": {},
   "source": [
    "## Task: Solve this problem\n",
    "\n",
    "In the classic game PACMAN, Pacman can score by \"eating\" dots and also eating flashing dots (energizers).\n",
    "The small dots are worth ten points each, and the  large, flashing dots/energizers are worth 50 points each.\n",
    "\n",
    "Write Python code that will calculate a players score based on the amount of dots and energizers that the player has eaten.\n",
    "\n",
    "Think about what you will make CONTSTANTS and what will be VARIABLES"
   ]
  },
  {
   "cell_type": "code",
   "execution_count": null,
   "metadata": {
    "collapsed": true
   },
   "outputs": [],
   "source": [
    "#write and test your code here"
   ]
  },
  {
   "cell_type": "code",
   "execution_count": 33,
   "metadata": {},
   "outputs": [
    {
     "ename": "NameError",
     "evalue": "name 'bigDotsEaten' is not defined",
     "output_type": "error",
     "traceback": [
      "\u001b[0;31m---------------------------------------------------------------------------\u001b[0m",
      "\u001b[0;31mNameError\u001b[0m                                 Traceback (most recent call last)",
      "\u001b[0;32m<ipython-input-33-cb24e1f90998>\u001b[0m in \u001b[0;36m<module>\u001b[0;34m\u001b[0m\n\u001b[1;32m      3\u001b[0m \u001b[0;34m\u001b[0m\u001b[0m\n\u001b[1;32m      4\u001b[0m \u001b[0msmallDotsEaten\u001b[0m \u001b[0;34m=\u001b[0m \u001b[0;36m10\u001b[0m\u001b[0;34m\u001b[0m\u001b[0;34m\u001b[0m\u001b[0m\n\u001b[0;32m----> 5\u001b[0;31m \u001b[0mbigDotsEaten\u001b[0m\u001b[0;34m\u001b[0m\u001b[0;34m\u001b[0m\u001b[0m\n\u001b[0m\u001b[1;32m      6\u001b[0m \u001b[0menergizersEaten\u001b[0m \u001b[0;34m=\u001b[0m \u001b[0;36m3\u001b[0m\u001b[0;34m\u001b[0m\u001b[0;34m\u001b[0m\u001b[0m\n\u001b[1;32m      7\u001b[0m \u001b[0;34m\u001b[0m\u001b[0m\n",
      "\u001b[0;31mNameError\u001b[0m: name 'bigDotsEaten' is not defined"
     ]
    }
   ],
   "source": [
    "SMALLDOTS = 10\n",
    "BIGDOTS = 50\n",
    "\n",
    "smallDotsEaten = 10\n",
    "bigDotsEaten\n",
    "energizersEaten = 3\n",
    "\n",
    "score = smallDotsEaten*SMALLDOTS+energizersEaten * BIGDOTS\n",
    "print(\"Your score is: \", score)"
   ]
  },
  {
   "cell_type": "code",
   "execution_count": null,
   "metadata": {},
   "outputs": [],
   "source": []
  }
 ],
 "metadata": {
  "celltoolbar": "Slideshow",
  "kernelspec": {
   "display_name": "Python 3",
   "language": "python",
   "name": "python3"
  },
  "language_info": {
   "codemirror_mode": {
    "name": "ipython",
    "version": 3
   },
   "file_extension": ".py",
   "mimetype": "text/x-python",
   "name": "python",
   "nbconvert_exporter": "python",
   "pygments_lexer": "ipython3",
   "version": "3.6.8"
  }
 },
 "nbformat": 4,
 "nbformat_minor": 2
}
